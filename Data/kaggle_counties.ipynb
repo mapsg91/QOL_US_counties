{
 "cells": [
  {
   "cell_type": "markdown",
   "metadata": {},
   "source": [
    "## Dataset import and preprocessing"
   ]
  },
  {
   "cell_type": "code",
   "execution_count": 1,
   "metadata": {},
   "outputs": [],
   "source": [
    "import pandas as pd\n",
    "import numpy as np\n",
    "import matplotlib.pyplot as plt"
   ]
  },
  {
   "cell_type": "code",
   "execution_count": 2,
   "metadata": {},
   "outputs": [],
   "source": [
    "qol_couties = pd.read_csv('qol_counties.csv')"
   ]
  },
  {
   "cell_type": "code",
   "execution_count": 4,
   "metadata": {},
   "outputs": [
    {
     "name": "stdout",
     "output_type": "stream",
     "text": [
      "countyhelper                object\n",
      "LSTATE                      object\n",
      "NMCNTY                      object\n",
      "FIPS                         int64\n",
      "LZIP                         int64\n",
      "ULOCALE                     object\n",
      "Overall Rank               float64\n",
      "2022 Population             object\n",
      "2016 Crime Rate             object\n",
      "Unemployment                object\n",
      "2020PopulrVoteParty         object\n",
      "2020 PopulrMajor%           object\n",
      "AQI%Good                    object\n",
      "WaterQualityVPV              int64\n",
      "ParkScore2023 Rank           int64\n",
      "%CvgCityPark                object\n",
      "NtnlPrkCnt                   int64\n",
      "%CvgStatePark               object\n",
      "Cost of Living              object\n",
      "2022 Median Income          object\n",
      "AVG C2I                     object\n",
      "1p0c                        object\n",
      "1p1c                        object\n",
      "1p2c                        object\n",
      "1p3c                        object\n",
      "1p4c                        object\n",
      "2p0c                        object\n",
      "2p1c                        object\n",
      "2p2c                        object\n",
      "2p3c                        object\n",
      "2p4c                        object\n",
      "Stu:Tea Rank                 int64\n",
      "Diversity Rank (Race)        int64\n",
      "Diversity Rank (Gender)      int64\n",
      "dtype: object\n"
     ]
    }
   ],
   "source": [
    "print(qol_couties.dtypes)"
   ]
  },
  {
   "cell_type": "markdown",
   "metadata": {},
   "source": [
    "## Define ambiguous variuables and select target"
   ]
  }
 ],
 "metadata": {
  "kernelspec": {
   "display_name": "socio_health",
   "language": "python",
   "name": "python3"
  },
  "language_info": {
   "codemirror_mode": {
    "name": "ipython",
    "version": 3
   },
   "file_extension": ".py",
   "mimetype": "text/x-python",
   "name": "python",
   "nbconvert_exporter": "python",
   "pygments_lexer": "ipython3",
   "version": "3.13.1"
  }
 },
 "nbformat": 4,
 "nbformat_minor": 2
}
